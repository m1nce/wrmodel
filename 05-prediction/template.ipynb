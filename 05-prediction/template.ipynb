{
 "cells": [
  {
   "cell_type": "markdown",
   "metadata": {},
   "source": [
    "# LoL Win-Loss Prediction Model\n",
    "\n",
    "**Name(s)**: Minchan Kim, David Moon\n",
    "\n",
    "**Website Link**: https://m1nce.github.io/wrmodel/"
   ]
  },
  {
   "cell_type": "markdown",
   "metadata": {},
   "source": [
    "## Code"
   ]
  },
  {
   "cell_type": "code",
   "execution_count": 198,
   "metadata": {
    "ExecuteTime": {
     "end_time": "2019-10-31T23:36:28.652554Z",
     "start_time": "2019-10-31T23:36:27.180520Z"
    }
   },
   "outputs": [],
   "source": [
    "import pandas as pd\n",
    "import numpy as np\n",
    "import os\n",
    "import pathlib\n",
    "from pathlib import Path\n",
    "import plotly.express as px\n",
    "import matplotlib.pyplot as plt\n",
    "import seaborn as sns\n",
    "\n",
    "from sklearn.tree import DecisionTreeClassifier\n",
    "from sklearn.pipeline import Pipeline\n",
    "from sklearn.model_selection import train_test_split\n",
    "from sklearn.compose import ColumnTransformer\n",
    "from sklearn.preprocessing import OneHotEncoder, Binarizer, StandardScaler\n",
    "from sklearn.ensemble import RandomForestClassifier\n",
    "from sklearn.model_selection import GridSearchCV\n",
    "from sklearn.metrics import confusion_matrix, accuracy_score\n",
    "pd.options.plotting.backend = 'plotly'"
   ]
  },
  {
   "cell_type": "code",
   "execution_count": 127,
   "metadata": {},
   "outputs": [
    {
     "data": {
      "text/html": [
       "<div>\n",
       "<style scoped>\n",
       "    .dataframe tbody tr th:only-of-type {\n",
       "        vertical-align: middle;\n",
       "    }\n",
       "\n",
       "    .dataframe tbody tr th {\n",
       "        vertical-align: top;\n",
       "    }\n",
       "\n",
       "    .dataframe thead th {\n",
       "        text-align: right;\n",
       "    }\n",
       "</style>\n",
       "<table border=\"1\" class=\"dataframe\">\n",
       "  <thead>\n",
       "    <tr style=\"text-align: right;\">\n",
       "      <th></th>\n",
       "      <th>gameid</th>\n",
       "      <th>datacompleteness</th>\n",
       "      <th>url</th>\n",
       "      <th>league</th>\n",
       "      <th>year</th>\n",
       "      <th>split</th>\n",
       "      <th>playoffs</th>\n",
       "      <th>date</th>\n",
       "      <th>game</th>\n",
       "      <th>patch</th>\n",
       "      <th>...</th>\n",
       "      <th>opp_csat15</th>\n",
       "      <th>golddiffat15</th>\n",
       "      <th>xpdiffat15</th>\n",
       "      <th>csdiffat15</th>\n",
       "      <th>killsat15</th>\n",
       "      <th>assistsat15</th>\n",
       "      <th>deathsat15</th>\n",
       "      <th>opp_killsat15</th>\n",
       "      <th>opp_assistsat15</th>\n",
       "      <th>opp_deathsat15</th>\n",
       "    </tr>\n",
       "  </thead>\n",
       "  <tbody>\n",
       "    <tr>\n",
       "      <th>0</th>\n",
       "      <td>ESPORTSTMNT01_2690210</td>\n",
       "      <td>complete</td>\n",
       "      <td>NaN</td>\n",
       "      <td>LCKC</td>\n",
       "      <td>2022</td>\n",
       "      <td>Spring</td>\n",
       "      <td>0</td>\n",
       "      <td>2022-01-10 07:44:08</td>\n",
       "      <td>1</td>\n",
       "      <td>12.01</td>\n",
       "      <td>...</td>\n",
       "      <td>121.0</td>\n",
       "      <td>391.0</td>\n",
       "      <td>345.0</td>\n",
       "      <td>14.0</td>\n",
       "      <td>0.0</td>\n",
       "      <td>1.0</td>\n",
       "      <td>0.0</td>\n",
       "      <td>0.0</td>\n",
       "      <td>1.0</td>\n",
       "      <td>0.0</td>\n",
       "    </tr>\n",
       "    <tr>\n",
       "      <th>1</th>\n",
       "      <td>ESPORTSTMNT01_2690210</td>\n",
       "      <td>complete</td>\n",
       "      <td>NaN</td>\n",
       "      <td>LCKC</td>\n",
       "      <td>2022</td>\n",
       "      <td>Spring</td>\n",
       "      <td>0</td>\n",
       "      <td>2022-01-10 07:44:08</td>\n",
       "      <td>1</td>\n",
       "      <td>12.01</td>\n",
       "      <td>...</td>\n",
       "      <td>100.0</td>\n",
       "      <td>541.0</td>\n",
       "      <td>-275.0</td>\n",
       "      <td>-11.0</td>\n",
       "      <td>2.0</td>\n",
       "      <td>3.0</td>\n",
       "      <td>2.0</td>\n",
       "      <td>0.0</td>\n",
       "      <td>5.0</td>\n",
       "      <td>1.0</td>\n",
       "    </tr>\n",
       "    <tr>\n",
       "      <th>2</th>\n",
       "      <td>ESPORTSTMNT01_2690210</td>\n",
       "      <td>complete</td>\n",
       "      <td>NaN</td>\n",
       "      <td>LCKC</td>\n",
       "      <td>2022</td>\n",
       "      <td>Spring</td>\n",
       "      <td>0</td>\n",
       "      <td>2022-01-10 07:44:08</td>\n",
       "      <td>1</td>\n",
       "      <td>12.01</td>\n",
       "      <td>...</td>\n",
       "      <td>119.0</td>\n",
       "      <td>-475.0</td>\n",
       "      <td>153.0</td>\n",
       "      <td>1.0</td>\n",
       "      <td>0.0</td>\n",
       "      <td>3.0</td>\n",
       "      <td>0.0</td>\n",
       "      <td>3.0</td>\n",
       "      <td>3.0</td>\n",
       "      <td>2.0</td>\n",
       "    </tr>\n",
       "    <tr>\n",
       "      <th>3</th>\n",
       "      <td>ESPORTSTMNT01_2690210</td>\n",
       "      <td>complete</td>\n",
       "      <td>NaN</td>\n",
       "      <td>LCKC</td>\n",
       "      <td>2022</td>\n",
       "      <td>Spring</td>\n",
       "      <td>0</td>\n",
       "      <td>2022-01-10 07:44:08</td>\n",
       "      <td>1</td>\n",
       "      <td>12.01</td>\n",
       "      <td>...</td>\n",
       "      <td>149.0</td>\n",
       "      <td>-793.0</td>\n",
       "      <td>-1343.0</td>\n",
       "      <td>-34.0</td>\n",
       "      <td>2.0</td>\n",
       "      <td>1.0</td>\n",
       "      <td>2.0</td>\n",
       "      <td>3.0</td>\n",
       "      <td>3.0</td>\n",
       "      <td>0.0</td>\n",
       "    </tr>\n",
       "    <tr>\n",
       "      <th>4</th>\n",
       "      <td>ESPORTSTMNT01_2690210</td>\n",
       "      <td>complete</td>\n",
       "      <td>NaN</td>\n",
       "      <td>LCKC</td>\n",
       "      <td>2022</td>\n",
       "      <td>Spring</td>\n",
       "      <td>0</td>\n",
       "      <td>2022-01-10 07:44:08</td>\n",
       "      <td>1</td>\n",
       "      <td>12.01</td>\n",
       "      <td>...</td>\n",
       "      <td>21.0</td>\n",
       "      <td>443.0</td>\n",
       "      <td>-497.0</td>\n",
       "      <td>7.0</td>\n",
       "      <td>1.0</td>\n",
       "      <td>2.0</td>\n",
       "      <td>2.0</td>\n",
       "      <td>0.0</td>\n",
       "      <td>6.0</td>\n",
       "      <td>2.0</td>\n",
       "    </tr>\n",
       "  </tbody>\n",
       "</table>\n",
       "<p>5 rows × 123 columns</p>\n",
       "</div>"
      ],
      "text/plain": [
       "                  gameid datacompleteness  url league  year   split  playoffs  \\\n",
       "0  ESPORTSTMNT01_2690210         complete  NaN   LCKC  2022  Spring         0   \n",
       "1  ESPORTSTMNT01_2690210         complete  NaN   LCKC  2022  Spring         0   \n",
       "2  ESPORTSTMNT01_2690210         complete  NaN   LCKC  2022  Spring         0   \n",
       "3  ESPORTSTMNT01_2690210         complete  NaN   LCKC  2022  Spring         0   \n",
       "4  ESPORTSTMNT01_2690210         complete  NaN   LCKC  2022  Spring         0   \n",
       "\n",
       "                  date  game  patch  ...  opp_csat15 golddiffat15 xpdiffat15  \\\n",
       "0  2022-01-10 07:44:08     1  12.01  ...       121.0        391.0      345.0   \n",
       "1  2022-01-10 07:44:08     1  12.01  ...       100.0        541.0     -275.0   \n",
       "2  2022-01-10 07:44:08     1  12.01  ...       119.0       -475.0      153.0   \n",
       "3  2022-01-10 07:44:08     1  12.01  ...       149.0       -793.0    -1343.0   \n",
       "4  2022-01-10 07:44:08     1  12.01  ...        21.0        443.0     -497.0   \n",
       "\n",
       "  csdiffat15 killsat15 assistsat15 deathsat15 opp_killsat15 opp_assistsat15  \\\n",
       "0       14.0       0.0         1.0        0.0           0.0             1.0   \n",
       "1      -11.0       2.0         3.0        2.0           0.0             5.0   \n",
       "2        1.0       0.0         3.0        0.0           3.0             3.0   \n",
       "3      -34.0       2.0         1.0        2.0           3.0             3.0   \n",
       "4        7.0       1.0         2.0        2.0           0.0             6.0   \n",
       "\n",
       "  opp_deathsat15  \n",
       "0            0.0  \n",
       "1            1.0  \n",
       "2            2.0  \n",
       "3            0.0  \n",
       "4            2.0  \n",
       "\n",
       "[5 rows x 123 columns]"
      ]
     },
     "execution_count": 127,
     "metadata": {},
     "output_type": "execute_result"
    }
   ],
   "source": [
    "data_path = Path('data') / '2022_LoL_esports_match_data_from_OraclesElixir.csv'\n",
    "df = pd.read_csv(data_path,low_memory=False)\n",
    "df.head()"
   ]
  },
  {
   "cell_type": "markdown",
   "metadata": {},
   "source": [
    "### Framing the Problem"
   ]
  },
  {
   "cell_type": "markdown",
   "metadata": {},
   "source": [
    "For our analysis, we decided to predict whether or not a team will win or lose. We decided to use a binary classification because a game only has two outcomes, a win or a loss. Because this is the way games are set up, we will consider a win to be the number \"1\" and a loss to be the number \"0\"."
   ]
  },
  {
   "cell_type": "code",
   "execution_count": 128,
   "metadata": {
    "ExecuteTime": {
     "end_time": "2019-10-31T23:36:28.657068Z",
     "start_time": "2019-10-31T23:36:28.654650Z"
    }
   },
   "outputs": [
    {
     "data": {
      "text/html": [
       "<div>\n",
       "<style scoped>\n",
       "    .dataframe tbody tr th:only-of-type {\n",
       "        vertical-align: middle;\n",
       "    }\n",
       "\n",
       "    .dataframe tbody tr th {\n",
       "        vertical-align: top;\n",
       "    }\n",
       "\n",
       "    .dataframe thead th {\n",
       "        text-align: right;\n",
       "    }\n",
       "</style>\n",
       "<table border=\"1\" class=\"dataframe\">\n",
       "  <thead>\n",
       "    <tr style=\"text-align: right;\">\n",
       "      <th></th>\n",
       "      <th>gameid</th>\n",
       "      <th>league</th>\n",
       "      <th>position</th>\n",
       "      <th>side</th>\n",
       "      <th>result</th>\n",
       "      <th>golddiffat10</th>\n",
       "      <th>firstherald</th>\n",
       "      <th>firstdragon</th>\n",
       "      <th>firstblood</th>\n",
       "      <th>xpdiffat10</th>\n",
       "      <th>csdiffat10</th>\n",
       "    </tr>\n",
       "  </thead>\n",
       "  <tbody>\n",
       "    <tr>\n",
       "      <th>1450</th>\n",
       "      <td>ESPORTSTMNT01_2700815</td>\n",
       "      <td>LCK</td>\n",
       "      <td>team</td>\n",
       "      <td>Blue</td>\n",
       "      <td>0</td>\n",
       "      <td>281.0</td>\n",
       "      <td>1.0</td>\n",
       "      <td>0.0</td>\n",
       "      <td>1.0</td>\n",
       "      <td>404.0</td>\n",
       "      <td>6.0</td>\n",
       "    </tr>\n",
       "    <tr>\n",
       "      <th>1451</th>\n",
       "      <td>ESPORTSTMNT01_2700815</td>\n",
       "      <td>LCK</td>\n",
       "      <td>team</td>\n",
       "      <td>Red</td>\n",
       "      <td>1</td>\n",
       "      <td>-281.0</td>\n",
       "      <td>0.0</td>\n",
       "      <td>1.0</td>\n",
       "      <td>0.0</td>\n",
       "      <td>-404.0</td>\n",
       "      <td>-6.0</td>\n",
       "    </tr>\n",
       "    <tr>\n",
       "      <th>1462</th>\n",
       "      <td>ESPORTSTMNT01_2690695</td>\n",
       "      <td>LCK</td>\n",
       "      <td>team</td>\n",
       "      <td>Blue</td>\n",
       "      <td>0</td>\n",
       "      <td>-1200.0</td>\n",
       "      <td>1.0</td>\n",
       "      <td>0.0</td>\n",
       "      <td>0.0</td>\n",
       "      <td>-1277.0</td>\n",
       "      <td>-15.0</td>\n",
       "    </tr>\n",
       "    <tr>\n",
       "      <th>1463</th>\n",
       "      <td>ESPORTSTMNT01_2690695</td>\n",
       "      <td>LCK</td>\n",
       "      <td>team</td>\n",
       "      <td>Red</td>\n",
       "      <td>1</td>\n",
       "      <td>1200.0</td>\n",
       "      <td>0.0</td>\n",
       "      <td>1.0</td>\n",
       "      <td>1.0</td>\n",
       "      <td>1277.0</td>\n",
       "      <td>15.0</td>\n",
       "    </tr>\n",
       "    <tr>\n",
       "      <th>1486</th>\n",
       "      <td>ESPORTSTMNT01_2690705</td>\n",
       "      <td>LCK</td>\n",
       "      <td>team</td>\n",
       "      <td>Blue</td>\n",
       "      <td>1</td>\n",
       "      <td>152.0</td>\n",
       "      <td>1.0</td>\n",
       "      <td>1.0</td>\n",
       "      <td>1.0</td>\n",
       "      <td>-948.0</td>\n",
       "      <td>-13.0</td>\n",
       "    </tr>\n",
       "    <tr>\n",
       "      <th>...</th>\n",
       "      <td>...</td>\n",
       "      <td>...</td>\n",
       "      <td>...</td>\n",
       "      <td>...</td>\n",
       "      <td>...</td>\n",
       "      <td>...</td>\n",
       "      <td>...</td>\n",
       "      <td>...</td>\n",
       "      <td>...</td>\n",
       "      <td>...</td>\n",
       "      <td>...</td>\n",
       "    </tr>\n",
       "    <tr>\n",
       "      <th>129503</th>\n",
       "      <td>ESPORTSTMNT04_2451974</td>\n",
       "      <td>LCK</td>\n",
       "      <td>team</td>\n",
       "      <td>Red</td>\n",
       "      <td>1</td>\n",
       "      <td>578.0</td>\n",
       "      <td>0.0</td>\n",
       "      <td>1.0</td>\n",
       "      <td>0.0</td>\n",
       "      <td>757.0</td>\n",
       "      <td>29.0</td>\n",
       "    </tr>\n",
       "    <tr>\n",
       "      <th>129538</th>\n",
       "      <td>ESPORTSTMNT04_2472110</td>\n",
       "      <td>LCK</td>\n",
       "      <td>team</td>\n",
       "      <td>Blue</td>\n",
       "      <td>0</td>\n",
       "      <td>-2261.0</td>\n",
       "      <td>0.0</td>\n",
       "      <td>0.0</td>\n",
       "      <td>0.0</td>\n",
       "      <td>-1791.0</td>\n",
       "      <td>6.0</td>\n",
       "    </tr>\n",
       "    <tr>\n",
       "      <th>129539</th>\n",
       "      <td>ESPORTSTMNT04_2472110</td>\n",
       "      <td>LCK</td>\n",
       "      <td>team</td>\n",
       "      <td>Red</td>\n",
       "      <td>1</td>\n",
       "      <td>2261.0</td>\n",
       "      <td>1.0</td>\n",
       "      <td>1.0</td>\n",
       "      <td>1.0</td>\n",
       "      <td>1791.0</td>\n",
       "      <td>-6.0</td>\n",
       "    </tr>\n",
       "    <tr>\n",
       "      <th>129562</th>\n",
       "      <td>ESPORTSTMNT04_2472111</td>\n",
       "      <td>LCK</td>\n",
       "      <td>team</td>\n",
       "      <td>Blue</td>\n",
       "      <td>1</td>\n",
       "      <td>308.0</td>\n",
       "      <td>0.0</td>\n",
       "      <td>1.0</td>\n",
       "      <td>0.0</td>\n",
       "      <td>956.0</td>\n",
       "      <td>20.0</td>\n",
       "    </tr>\n",
       "    <tr>\n",
       "      <th>129563</th>\n",
       "      <td>ESPORTSTMNT04_2472111</td>\n",
       "      <td>LCK</td>\n",
       "      <td>team</td>\n",
       "      <td>Red</td>\n",
       "      <td>0</td>\n",
       "      <td>-308.0</td>\n",
       "      <td>1.0</td>\n",
       "      <td>0.0</td>\n",
       "      <td>1.0</td>\n",
       "      <td>-956.0</td>\n",
       "      <td>-20.0</td>\n",
       "    </tr>\n",
       "  </tbody>\n",
       "</table>\n",
       "<p>934 rows × 11 columns</p>\n",
       "</div>"
      ],
      "text/plain": [
       "                       gameid league position  side  result  golddiffat10  \\\n",
       "1450    ESPORTSTMNT01_2700815    LCK     team  Blue       0         281.0   \n",
       "1451    ESPORTSTMNT01_2700815    LCK     team   Red       1        -281.0   \n",
       "1462    ESPORTSTMNT01_2690695    LCK     team  Blue       0       -1200.0   \n",
       "1463    ESPORTSTMNT01_2690695    LCK     team   Red       1        1200.0   \n",
       "1486    ESPORTSTMNT01_2690705    LCK     team  Blue       1         152.0   \n",
       "...                       ...    ...      ...   ...     ...           ...   \n",
       "129503  ESPORTSTMNT04_2451974    LCK     team   Red       1         578.0   \n",
       "129538  ESPORTSTMNT04_2472110    LCK     team  Blue       0       -2261.0   \n",
       "129539  ESPORTSTMNT04_2472110    LCK     team   Red       1        2261.0   \n",
       "129562  ESPORTSTMNT04_2472111    LCK     team  Blue       1         308.0   \n",
       "129563  ESPORTSTMNT04_2472111    LCK     team   Red       0        -308.0   \n",
       "\n",
       "        firstherald  firstdragon  firstblood  xpdiffat10  csdiffat10  \n",
       "1450            1.0          0.0         1.0       404.0         6.0  \n",
       "1451            0.0          1.0         0.0      -404.0        -6.0  \n",
       "1462            1.0          0.0         0.0     -1277.0       -15.0  \n",
       "1463            0.0          1.0         1.0      1277.0        15.0  \n",
       "1486            1.0          1.0         1.0      -948.0       -13.0  \n",
       "...             ...          ...         ...         ...         ...  \n",
       "129503          0.0          1.0         0.0       757.0        29.0  \n",
       "129538          0.0          0.0         0.0     -1791.0         6.0  \n",
       "129539          1.0          1.0         1.0      1791.0        -6.0  \n",
       "129562          0.0          1.0         0.0       956.0        20.0  \n",
       "129563          1.0          0.0         1.0      -956.0       -20.0  \n",
       "\n",
       "[934 rows x 11 columns]"
      ]
     },
     "execution_count": 128,
     "metadata": {},
     "output_type": "execute_result"
    }
   ],
   "source": [
    "is_lck = 'LCK'\n",
    "default = df.loc[:, ['gameid', 'league','position','side', 'result', 'golddiffat10','firstherald','firstdragon','firstblood','xpdiffat10','csdiffat10']]\n",
    "default = default[default['position'] == 'team']\n",
    "#gets rid of games that have no result\n",
    "groupbyresult = default.groupby(['gameid'])[['result']].sum()\n",
    "remove_games = groupbyresult[groupbyresult['result'] != 6].index\n",
    "default = default[default.isin(remove_games).any(axis=1)]\n",
    "default = default[default['league'] == is_lck]\n",
    "default"
   ]
  },
  {
   "cell_type": "markdown",
   "metadata": {},
   "source": [
    "### Baseline Model"
   ]
  },
  {
   "cell_type": "markdown",
   "metadata": {},
   "source": [
    "For our baseline model, we wanted to predict a team's outcome (win or loss) depending on a couple of features. We used the `side`, `golddiffat10`, `firstherald`, `firstdragon`, `firstblood`, `xpdiffat10`, and `csdiffat10` columns in order to predict the outcome."
   ]
  },
  {
   "cell_type": "code",
   "execution_count": 129,
   "metadata": {},
   "outputs": [],
   "source": [
    "X = default.drop(columns=['gameid','league','position','result'])\n",
    "y = default['result']\n",
    "X_train, X_test, y_train, y_test = train_test_split(X, y, test_size=0.2, random_state=1)"
   ]
  },
  {
   "cell_type": "code",
   "execution_count": 130,
   "metadata": {},
   "outputs": [],
   "source": [
    "preproc = ColumnTransformer(\n",
    "    transformers=[\n",
    "        ('categorical_col', OneHotEncoder(), ['side'])\n",
    "    ],\n",
    "    remainder='passthrough'\n",
    ")"
   ]
  },
  {
   "cell_type": "code",
   "execution_count": 131,
   "metadata": {
    "ExecuteTime": {
     "end_time": "2019-10-31T23:36:28.662099Z",
     "start_time": "2019-10-31T23:36:28.660016Z"
    }
   },
   "outputs": [],
   "source": [
    "pl = Pipeline([\n",
    "    ('preprocessor', preproc),\n",
    "    ('clf', DecisionTreeClassifier(max_depth=3)) \n",
    "])"
   ]
  },
  {
   "cell_type": "code",
   "execution_count": 132,
   "metadata": {},
   "outputs": [
    {
     "data": {
      "text/plain": [
       "Pipeline(steps=[('preprocessor',\n",
       "                 ColumnTransformer(remainder='passthrough',\n",
       "                                   transformers=[('categorical_col',\n",
       "                                                  OneHotEncoder(),\n",
       "                                                  ['side'])])),\n",
       "                ('clf', DecisionTreeClassifier(max_depth=3))])"
      ]
     },
     "execution_count": 132,
     "metadata": {},
     "output_type": "execute_result"
    }
   ],
   "source": [
    "pl.fit(X_train, y_train)"
   ]
  },
  {
   "cell_type": "code",
   "execution_count": 133,
   "metadata": {},
   "outputs": [
    {
     "data": {
      "text/plain": [
       "0.7001338688085676"
      ]
     },
     "execution_count": 133,
     "metadata": {},
     "output_type": "execute_result"
    }
   ],
   "source": [
    "pl.score(X_train, y_train)"
   ]
  },
  {
   "cell_type": "code",
   "execution_count": 134,
   "metadata": {},
   "outputs": [
    {
     "data": {
      "text/plain": [
       "0.6631016042780749"
      ]
     },
     "execution_count": 134,
     "metadata": {},
     "output_type": "execute_result"
    }
   ],
   "source": [
    "pl.score(X_test, y_test)"
   ]
  },
  {
   "cell_type": "code",
   "execution_count": 135,
   "metadata": {},
   "outputs": [
    {
     "data": {
      "image/png": "[encoded data removed]",
      "text/plain": [
       "<Figure size 640x480 with 2 Axes>"
      ]
     },
     "metadata": {},
     "output_type": "display_data"
    }
   ],
   "source": [
    "conf_matrix = confusion_matrix(y_test, pl.predict(X_test))\n",
    "sns.heatmap(conf_matrix, annot=True, fmt=\"d\", cmap=\"Blues\",\n",
    "            xticklabels=['Class 0', 'Class 1'],\n",
    "            yticklabels=['Class 0', 'Class 1'])\n",
    "plt.title('Confusion Matrix')\n",
    "plt.xlabel('Predicted')\n",
    "plt.ylabel('True')\n",
    "plt.show()"
   ]
  },
  {
   "cell_type": "markdown",
   "metadata": {},
   "source": [
    "### Final Model"
   ]
  },
  {
   "cell_type": "code",
   "execution_count": 154,
   "metadata": {
    "ExecuteTime": {
     "end_time": "2019-10-31T23:36:28.662099Z",
     "start_time": "2019-10-31T23:36:28.660016Z"
    }
   },
   "outputs": [
    {
     "data": {
      "text/html": [
       "<div>\n",
       "<style scoped>\n",
       "    .dataframe tbody tr th:only-of-type {\n",
       "        vertical-align: middle;\n",
       "    }\n",
       "\n",
       "    .dataframe tbody tr th {\n",
       "        vertical-align: top;\n",
       "    }\n",
       "\n",
       "    .dataframe thead th {\n",
       "        text-align: right;\n",
       "    }\n",
       "</style>\n",
       "<table border=\"1\" class=\"dataframe\">\n",
       "  <thead>\n",
       "    <tr style=\"text-align: right;\">\n",
       "      <th></th>\n",
       "      <th>result</th>\n",
       "      <th>side</th>\n",
       "      <th>team kpm</th>\n",
       "      <th>barons</th>\n",
       "      <th>firsttothreetowers</th>\n",
       "      <th>dpm</th>\n",
       "      <th>earned gpm</th>\n",
       "      <th>inhibitors</th>\n",
       "      <th>elders</th>\n",
       "      <th>dragons</th>\n",
       "      <th>towers</th>\n",
       "    </tr>\n",
       "  </thead>\n",
       "  <tbody>\n",
       "    <tr>\n",
       "      <th>1450</th>\n",
       "      <td>0</td>\n",
       "      <td>Blue</td>\n",
       "      <td>0.1367</td>\n",
       "      <td>0.0</td>\n",
       "      <td>1.0</td>\n",
       "      <td>1367.7813</td>\n",
       "      <td>1092.7927</td>\n",
       "      <td>0.0</td>\n",
       "      <td>0.0</td>\n",
       "      <td>1.0</td>\n",
       "      <td>8.0</td>\n",
       "    </tr>\n",
       "    <tr>\n",
       "      <th>1451</th>\n",
       "      <td>1</td>\n",
       "      <td>Red</td>\n",
       "      <td>0.3827</td>\n",
       "      <td>2.0</td>\n",
       "      <td>0.0</td>\n",
       "      <td>1614.6970</td>\n",
       "      <td>1200.0000</td>\n",
       "      <td>2.0</td>\n",
       "      <td>0.0</td>\n",
       "      <td>4.0</td>\n",
       "      <td>9.0</td>\n",
       "    </tr>\n",
       "    <tr>\n",
       "      <th>1462</th>\n",
       "      <td>0</td>\n",
       "      <td>Blue</td>\n",
       "      <td>0.2029</td>\n",
       "      <td>1.0</td>\n",
       "      <td>0.0</td>\n",
       "      <td>1935.4783</td>\n",
       "      <td>1106.7246</td>\n",
       "      <td>0.0</td>\n",
       "      <td>0.0</td>\n",
       "      <td>0.0</td>\n",
       "      <td>3.0</td>\n",
       "    </tr>\n",
       "    <tr>\n",
       "      <th>1463</th>\n",
       "      <td>1</td>\n",
       "      <td>Red</td>\n",
       "      <td>0.4348</td>\n",
       "      <td>1.0</td>\n",
       "      <td>1.0</td>\n",
       "      <td>1670.0290</td>\n",
       "      <td>1294.4928</td>\n",
       "      <td>1.0</td>\n",
       "      <td>0.0</td>\n",
       "      <td>4.0</td>\n",
       "      <td>9.0</td>\n",
       "    </tr>\n",
       "    <tr>\n",
       "      <th>1486</th>\n",
       "      <td>1</td>\n",
       "      <td>Blue</td>\n",
       "      <td>0.3224</td>\n",
       "      <td>1.0</td>\n",
       "      <td>1.0</td>\n",
       "      <td>1997.1429</td>\n",
       "      <td>1136.6950</td>\n",
       "      <td>1.0</td>\n",
       "      <td>1.0</td>\n",
       "      <td>5.0</td>\n",
       "      <td>7.0</td>\n",
       "    </tr>\n",
       "  </tbody>\n",
       "</table>\n",
       "</div>"
      ],
      "text/plain": [
       "      result  side  team kpm  barons  firsttothreetowers        dpm  \\\n",
       "1450       0  Blue    0.1367     0.0                 1.0  1367.7813   \n",
       "1451       1   Red    0.3827     2.0                 0.0  1614.6970   \n",
       "1462       0  Blue    0.2029     1.0                 0.0  1935.4783   \n",
       "1463       1   Red    0.4348     1.0                 1.0  1670.0290   \n",
       "1486       1  Blue    0.3224     1.0                 1.0  1997.1429   \n",
       "\n",
       "      earned gpm  inhibitors  elders  dragons  towers  \n",
       "1450   1092.7927         0.0     0.0      1.0     8.0  \n",
       "1451   1200.0000         2.0     0.0      4.0     9.0  \n",
       "1462   1106.7246         0.0     0.0      0.0     3.0  \n",
       "1463   1294.4928         1.0     0.0      4.0     9.0  \n",
       "1486   1136.6950         1.0     1.0      5.0     7.0  "
      ]
     },
     "execution_count": 154,
     "metadata": {},
     "output_type": "execute_result"
    }
   ],
   "source": [
    "final_df = df[(df['position'] == 'team') & (df['league'] == 'LCK')]\n",
    "final_df = final_df[['result', 'side', 'team kpm', 'barons', 'firsttothreetowers', 'dpm', 'earned gpm', 'inhibitors', 'elders', 'dragons', 'towers']]\n",
    "final_df.head()"
   ]
  },
  {
   "cell_type": "code",
   "execution_count": 155,
   "metadata": {},
   "outputs": [],
   "source": [
    "X = final_df.drop(columns='result')\n",
    "y = final_df['result']\n",
    "X_train, X_test, y_train, y_test = train_test_split(X, y, test_size=0.2, random_state=1)"
   ]
  },
  {
   "cell_type": "code",
   "execution_count": 156,
   "metadata": {},
   "outputs": [],
   "source": [
    "preproc = ColumnTransformer(\n",
    "    transformers=[\n",
    "        ('5towers', Binarizer(threshold=4), ['towers']),\n",
    "        ('categorical_col', OneHotEncoder(), ['side']),\n",
    "        ('stdscaler', StandardScaler(), ['team kpm', 'dpm', 'earned gpm'])\n",
    "    ],\n",
    "    remainder='passthrough' # Specify what to do with all other columns ('total_bill' here) – drop or passthrough.\n",
    ")"
   ]
  },
  {
   "cell_type": "code",
   "execution_count": 157,
   "metadata": {},
   "outputs": [],
   "source": [
    "pl = Pipeline([\n",
    "    ('preprocessor', preproc),\n",
    "    ('clf', DecisionTreeClassifier(max_depth=3))\n",
    "])"
   ]
  },
  {
   "cell_type": "code",
   "execution_count": 158,
   "metadata": {},
   "outputs": [
    {
     "data": {
      "text/plain": [
       "Pipeline(steps=[('preprocessor',\n",
       "                 ColumnTransformer(remainder='passthrough',\n",
       "                                   transformers=[('5towers',\n",
       "                                                  Binarizer(threshold=4),\n",
       "                                                  ['towers']),\n",
       "                                                 ('categorical_col',\n",
       "                                                  OneHotEncoder(), ['side']),\n",
       "                                                 ('stdscaler', StandardScaler(),\n",
       "                                                  ['team kpm', 'dpm',\n",
       "                                                   'earned gpm'])])),\n",
       "                ('clf', DecisionTreeClassifier(max_depth=3))])"
      ]
     },
     "execution_count": 158,
     "metadata": {},
     "output_type": "execute_result"
    }
   ],
   "source": [
    "pl.fit(X_train, y_train)"
   ]
  },
  {
   "cell_type": "code",
   "execution_count": 159,
   "metadata": {},
   "outputs": [
    {
     "data": {
      "text/plain": [
       "0.9692101740294511"
      ]
     },
     "execution_count": 159,
     "metadata": {},
     "output_type": "execute_result"
    }
   ],
   "source": [
    "pl.score(X_train, y_train)"
   ]
  },
  {
   "cell_type": "code",
   "execution_count": 160,
   "metadata": {},
   "outputs": [
    {
     "data": {
      "text/plain": [
       "0.9625668449197861"
      ]
     },
     "execution_count": 160,
     "metadata": {},
     "output_type": "execute_result"
    }
   ],
   "source": [
    "pl.score(X_test, y_test)"
   ]
  },
  {
   "cell_type": "code",
   "execution_count": 161,
   "metadata": {},
   "outputs": [
    {
     "data": {
      "image/png": "[encoded data removed]",
      "text/plain": [
       "<Figure size 640x480 with 2 Axes>"
      ]
     },
     "metadata": {},
     "output_type": "display_data"
    }
   ],
   "source": [
    "conf_matrix = confusion_matrix(y_test, pl.predict(X_test))\n",
    "sns.heatmap(conf_matrix, annot=True, fmt=\"d\", cmap=\"Blues\",\n",
    "            xticklabels=['Class 0', 'Class 1'],\n",
    "            yticklabels=['Class 0', 'Class 1'])\n",
    "plt.title('Confusion Matrix')\n",
    "plt.xlabel('Predicted')\n",
    "plt.ylabel('True')\n",
    "plt.show()"
   ]
  },
  {
   "cell_type": "code",
   "execution_count": 162,
   "metadata": {},
   "outputs": [],
   "source": [
    "param_grid = {\n",
    "    'clf__criterion': ['gini', 'entropy'],\n",
    "    'clf__max_depth': [None, 10, 20, 30],\n",
    "    'clf__min_samples_split': [2, 5, 10],\n",
    "    'clf__min_samples_leaf': [1, 2, 4]\n",
    "    # Add other hyperparameters you want to tune\n",
    "}"
   ]
  },
  {
   "cell_type": "code",
   "execution_count": 163,
   "metadata": {},
   "outputs": [
    {
     "data": {
      "text/plain": [
       "GridSearchCV(cv=5,\n",
       "             estimator=Pipeline(steps=[('preprocessor',\n",
       "                                        ColumnTransformer(remainder='passthrough',\n",
       "                                                          transformers=[('5towers',\n",
       "                                                                         Binarizer(threshold=4),\n",
       "                                                                         ['towers']),\n",
       "                                                                        ('categorical_col',\n",
       "                                                                         OneHotEncoder(),\n",
       "                                                                         ['side']),\n",
       "                                                                        ('stdscaler',\n",
       "                                                                         StandardScaler(),\n",
       "                                                                         ['team '\n",
       "                                                                          'kpm',\n",
       "                                                                          'dpm',\n",
       "                                                                          'earned '\n",
       "                                                                          'gpm'])])),\n",
       "                                       ('clf',\n",
       "                                        DecisionTreeClassifier(max_depth=3))]),\n",
       "             n_jobs=-1,\n",
       "             param_grid={'clf__criterion': ['gini', 'entropy'],\n",
       "                         'clf__max_depth': [None, 10, 20, 30],\n",
       "                         'clf__min_samples_leaf': [1, 2, 4],\n",
       "                         'clf__min_samples_split': [2, 5, 10]},\n",
       "             scoring='accuracy')"
      ]
     },
     "execution_count": 163,
     "metadata": {},
     "output_type": "execute_result"
    }
   ],
   "source": [
    "grid_search = GridSearchCV(pl, param_grid, cv=5, scoring='accuracy', n_jobs=-1)\n",
    "grid_search.fit(X_train, y_train)"
   ]
  },
  {
   "cell_type": "code",
   "execution_count": 164,
   "metadata": {},
   "outputs": [],
   "source": [
    "best_params = grid_search.best_params_\n",
    "best_model = grid_search.best_estimator_"
   ]
  },
  {
   "cell_type": "code",
   "execution_count": 165,
   "metadata": {},
   "outputs": [
    {
     "data": {
      "text/plain": [
       "{'clf__criterion': 'entropy',\n",
       " 'clf__max_depth': 30,\n",
       " 'clf__min_samples_leaf': 1,\n",
       " 'clf__min_samples_split': 5}"
      ]
     },
     "execution_count": 165,
     "metadata": {},
     "output_type": "execute_result"
    }
   ],
   "source": [
    "best_params"
   ]
  },
  {
   "cell_type": "code",
   "execution_count": 166,
   "metadata": {},
   "outputs": [
    {
     "data": {
      "text/plain": [
       "0.998661311914324"
      ]
     },
     "execution_count": 166,
     "metadata": {},
     "output_type": "execute_result"
    }
   ],
   "source": [
    "best_model.score(X_train, y_train)"
   ]
  },
  {
   "cell_type": "code",
   "execution_count": 167,
   "metadata": {},
   "outputs": [
    {
     "data": {
      "text/plain": [
       "0.9572192513368984"
      ]
     },
     "execution_count": 167,
     "metadata": {},
     "output_type": "execute_result"
    }
   ],
   "source": [
    "best_model.score(X_test, y_test)"
   ]
  },
  {
   "cell_type": "code",
   "execution_count": 168,
   "metadata": {},
   "outputs": [
    {
     "data": {
      "image/png": "[encoded data removed]",
      "text/plain": [
       "<Figure size 640x480 with 2 Axes>"
      ]
     },
     "metadata": {},
     "output_type": "display_data"
    }
   ],
   "source": [
    "conf_matrix = confusion_matrix(y_test, best_model.predict(X_test))\n",
    "sns.heatmap(conf_matrix, annot=True, fmt=\"d\", cmap=\"Blues\",\n",
    "            xticklabels=['Class 0', 'Class 1'],\n",
    "            yticklabels=['Class 0', 'Class 1'])\n",
    "plt.title('Confusion Matrix')\n",
    "plt.xlabel('Predicted')\n",
    "plt.ylabel('True')\n",
    "plt.show()"
   ]
  },
  {
   "cell_type": "markdown",
   "metadata": {},
   "source": [
    "### Fairness Analysis"
   ]
  },
  {
   "cell_type": "code",
   "execution_count": 170,
   "metadata": {},
   "outputs": [
    {
     "data": {
      "text/plain": [
       "0.998661311914324"
      ]
     },
     "execution_count": 170,
     "metadata": {},
     "output_type": "execute_result"
    }
   ],
   "source": [
    "# Training accuracy\n",
    "best_model.score(X_train, y_train)"
   ]
  },
  {
   "cell_type": "code",
   "execution_count": 171,
   "metadata": {},
   "outputs": [
    {
     "data": {
      "text/plain": [
       "0.9572192513368984"
      ]
     },
     "execution_count": 171,
     "metadata": {},
     "output_type": "execute_result"
    }
   ],
   "source": [
    "# Testing accuracy\n",
    "best_model.score(X_test, y_test)"
   ]
  },
  {
   "cell_type": "code",
   "execution_count": 203,
   "metadata": {},
   "outputs": [],
   "source": [
    "y_pred_original = best_model.predict(X_test)\n",
    "\n",
    "accuracy_original_Blue = accuracy_score(y_test[X_test['side'] == 'Blue'], y_pred_original[X_test['side'] == 'Blue'])\n",
    "accuracy_original_Red = accuracy_score(y_test[X_test['side'] == 'Red'], y_pred_original[X_test['side'] == 'Red'])\n",
    "\n",
    "accuracy_permutations = []\n",
    "\n",
    "for _ in range(1000):\n",
    "    shuffled_side = np.random.permutation(X_test['side'])\n",
    "\n",
    "    accuracy_Blue = accuracy_score(y_test[X_test['side'] == 'Blue'], y_pred_original[X_test['side'] == 'Blue'])\n",
    "    accuracy_Red = accuracy_score(y_test[X_test['side'] == 'Red'], y_pred_original[X_test['side'] == 'Red'])\n",
    "\n",
    "    accuracy_diff = accuracy_Blue - accuracy_Red\n",
    "    accuracy_permutations.append(accuracy_diff)\n",
    "\n",
    "observed_diff = accuracy_original_Blue - accuracy_original_Red\n",
    "\n",
    "p_value = (np.abs(accuracy_permutations) >= np.abs(observed_diff)).mean()"
   ]
  },
  {
   "cell_type": "code",
   "execution_count": 204,
   "metadata": {},
   "outputs": [
    {
     "data": {
      "text/plain": [
       "1.0"
      ]
     },
     "execution_count": 204,
     "metadata": {},
     "output_type": "execute_result"
    }
   ],
   "source": [
    "p_value"
   ]
  },
  {
   "cell_type": "code",
   "execution_count": null,
   "metadata": {},
   "outputs": [],
   "source": []
  }
 ],
 "metadata": {
  "kernelspec": {
   "display_name": "Python 3 (ipykernel)",
   "language": "python",
   "name": "python3"
  },
  "language_info": {
   "codemirror_mode": {
    "name": "ipython",
    "version": 3
   },
   "file_extension": ".py",
   "mimetype": "text/x-python",
   "name": "python",
   "nbconvert_exporter": "python",
   "pygments_lexer": "ipython3",
   "version": "3.8.17"
  }
 },
 "nbformat": 4,
 "nbformat_minor": 4
}
